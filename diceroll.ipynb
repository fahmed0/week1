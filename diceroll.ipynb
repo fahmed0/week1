{
 "cells": [
  {
   "cell_type": "code",
   "execution_count": 4,
   "metadata": {},
   "outputs": [
    {
     "name": "stdout",
     "output_type": "stream",
     "text": [
      "You rolled a 3\n",
      "You rolled a 3\n",
      "You rolled a 2\n",
      "You rolled a 5\n",
      "You rolled a 4\n",
      "Your rolls were: [3, 3, 2, 5, 4]\n"
     ]
    }
   ],
   "source": [
    "import random\n",
    "\n",
    "# specify the number of times to roll the dice\n",
    "num_rolls = 5\n",
    "\n",
    "# initialize the roll counter and the list of rolls\n",
    "rolls = 0\n",
    "results = []\n",
    "\n",
    "# roll the dice the specified number of times\n",
    "while rolls < num_rolls:\n",
    "    # roll the dice\n",
    "    roll = random.randint(1, 6)\n",
    "    print(\"You rolled a\", roll)\n",
    "    \n",
    "    # add the roll to the list of results\n",
    "    results.append(roll)\n",
    "    rolls += 1\n",
    "    \n",
    "print(\"Your rolls were:\", results)"
   ]
  }
 ],
 "metadata": {
  "kernelspec": {
   "display_name": "Python 3",
   "language": "python",
   "name": "python3"
  },
  "language_info": {
   "codemirror_mode": {
    "name": "ipython",
    "version": 3
   },
   "file_extension": ".py",
   "mimetype": "text/x-python",
   "name": "python",
   "nbconvert_exporter": "python",
   "pygments_lexer": "ipython3",
   "version": "3.11.2"
  },
  "orig_nbformat": 4
 },
 "nbformat": 4,
 "nbformat_minor": 2
}
