{
 "cells": [
  {
   "cell_type": "code",
   "execution_count": 2,
   "metadata": {},
   "outputs": [
    {
     "name": "stdout",
     "output_type": "stream",
     "text": [
      "The blue water green slowly.\n"
     ]
    }
   ],
   "source": [
    "# ask  user for input\n",
    "noun = input(\"Enter a singular noun: \")\n",
    "adjective = input(\"Enter an adjective: \")\n",
    "verb = input(\"Enter a verb: \")\n",
    "adverb = input(\"Enter an adverb: \")\n",
    "\n",
    "# create a story template\n",
    "story = \"The {} {} {} {}.\".format(adjective, noun, verb, adverb)\n",
    "\n",
    "# print the story\n",
    "print(story)\n"
   ]
  }
 ],
 "metadata": {
  "kernelspec": {
   "display_name": "Python 3",
   "language": "python",
   "name": "python3"
  },
  "language_info": {
   "codemirror_mode": {
    "name": "ipython",
    "version": 3
   },
   "file_extension": ".py",
   "mimetype": "text/x-python",
   "name": "python",
   "nbconvert_exporter": "python",
   "pygments_lexer": "ipython3",
   "version": "3.11.2"
  },
  "orig_nbformat": 4
 },
 "nbformat": 4,
 "nbformat_minor": 2
}
