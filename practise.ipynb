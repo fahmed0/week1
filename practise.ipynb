{
 "cells": [
  {
   "cell_type": "code",
   "execution_count": 87,
   "metadata": {},
   "outputs": [
    {
     "name": "stdout",
     "output_type": "stream",
     "text": [
      "1\n",
      "6\n",
      "11\n",
      "16\n",
      "21\n",
      "26\n",
      "31\n",
      "36\n",
      "41\n",
      "46\n"
     ]
    }
   ],
   "source": [
    "# use for loop\n",
    "for p in range(1,50,5):\n",
    "    print(p)"
   ]
  },
  {
   "cell_type": "code",
   "execution_count": 1,
   "metadata": {},
   "outputs": [
    {
     "name": "stdout",
     "output_type": "stream",
     "text": [
      "apple\n",
      "apple\n",
      "apple\n",
      "apple\n",
      "apple\n",
      "apple\n",
      "apple\n",
      "apple\n",
      "apple\n",
      "apple\n"
     ]
    }
   ],
   "source": [
    "fr = \"apple\"\n",
    "for a in range(10):\n",
    "    print(fr)"
   ]
  },
  {
   "cell_type": "code",
   "execution_count": 86,
   "metadata": {},
   "outputs": [
    {
     "name": "stdout",
     "output_type": "stream",
     "text": [
      " 1: hello\n",
      " 2: hello\n",
      " 3: hello\n"
     ]
    }
   ],
   "source": [
    "#get the msg from user\n",
    "msg = input(\"Enter a message\")\n",
    "num_of_rep = int(input(\"Enter the number of times to repeat the message\"))\n",
    "\n",
    "#Use a for loop\n",
    "for i in range(1,num_of_rep+1):\n",
    "    print(\" {}: {}\".format(i,msg))\n",
    "\n"
   ]
  },
  {
   "cell_type": "code",
   "execution_count": 85,
   "metadata": {},
   "outputs": [
    {
     "name": "stdout",
     "output_type": "stream",
     "text": [
      "1x3=3\n",
      "2x3=6\n",
      "3x3=9\n",
      "4x3=12\n",
      "5x3=15\n",
      "6x3=18\n",
      "7x3=21\n",
      "8x3=24\n",
      "9x3=27\n",
      "10x3=30\n",
      "11x3=33\n",
      "12x3=36\n"
     ]
    }
   ],
   "source": [
    "# program for timestables\n",
    "tt = int(input(\"Enter a time table you want displayed\"))\n",
    "\n",
    "# Use for loop\n",
    "for i in range(1,13):\n",
    "    print(f\"{i}x{tt}={i*tt}\")"
   ]
  },
  {
   "cell_type": "code",
   "execution_count": 84,
   "metadata": {},
   "outputs": [
    {
     "name": "stdout",
     "output_type": "stream",
     "text": [
      "9\n"
     ]
    }
   ],
   "source": [
    "house= 5\n",
    "car= 4\n",
    "total= house+car\n",
    "print(total)"
   ]
  },
  {
   "cell_type": "code",
   "execution_count": 83,
   "metadata": {},
   "outputs": [
    {
     "name": "stdout",
     "output_type": "stream",
     "text": [
      "55\n"
     ]
    }
   ],
   "source": [
    "a = 22\n",
    "b = 33\n",
    "total = a+b\n",
    "print(total)"
   ]
  },
  {
   "cell_type": "code",
   "execution_count": null,
   "metadata": {},
   "outputs": [],
   "source": [
    "numb1= int(input(\"Enter a number\"))\n",
    "numb2= int(input(\"Enter a second number\"))\n",
    "total= numb1 + numb2\n",
    "print(total)"
   ]
  },
  {
   "cell_type": "code",
   "execution_count": 32,
   "metadata": {},
   "outputs": [
    {
     "name": "stdout",
     "output_type": "stream",
     "text": [
      "6\n",
      "2.0\n"
     ]
    }
   ],
   "source": [
    "numb1= int(input(\"Enter a number\"))\n",
    "numb2= int(input(\"Enter a second number\"))\n",
    "numb3= int(input(\"Enter a third number\"))\n",
    "total= numb1+numb2+numb3\n",
    "print(total)\n",
    "print(total/3)\n"
   ]
  },
  {
   "cell_type": "code",
   "execution_count": 33,
   "metadata": {},
   "outputs": [
    {
     "name": "stdout",
     "output_type": "stream",
     "text": [
      "1\n",
      "2\n",
      "3\n",
      "4\n",
      "5\n",
      "6\n",
      "7\n",
      "8\n",
      "9\n",
      "10\n"
     ]
    }
   ],
   "source": [
    "count=1\n",
    "while count<11:\n",
    "    print(count)\n",
    "    count+=1\n",
    "\n"
   ]
  },
  {
   "cell_type": "code",
   "execution_count": 82,
   "metadata": {},
   "outputs": [],
   "source": [
    "entry= \"\"\n",
    "password = \"letmein\"\n",
    "while entry !=password:\n",
    "    entry = input(\"please enter password\")\n"
   ]
  },
  {
   "cell_type": "code",
   "execution_count": 62,
   "metadata": {},
   "outputs": [
    {
     "name": "stdout",
     "output_type": "stream",
     "text": [
      "Correct\n"
     ]
    }
   ],
   "source": [
    "guess= \"\"\n",
    "while guess != \"flower\":\n",
    "    guess = input(\"Guess my name\")\n",
    "print(\"Correct\")"
   ]
  },
  {
   "cell_type": "code",
   "execution_count": 61,
   "metadata": {},
   "outputs": [
    {
     "name": "stdout",
     "output_type": "stream",
     "text": [
      "Wrong\n",
      "Wrong\n",
      "Correct\n"
     ]
    }
   ],
   "source": [
    "while True:\n",
    "    guess = input(\"Guess my name\")\n",
    "    if guess == \"flower\":\n",
    "        print(\"Correct\")\n",
    "        break\n",
    "    print(\"Wrong\")"
   ]
  },
  {
   "cell_type": "code",
   "execution_count": 4,
   "metadata": {},
   "outputs": [
    {
     "name": "stdout",
     "output_type": "stream",
     "text": [
      "Wrong\n",
      "Correct\n"
     ]
    }
   ],
   "source": [
    "while True:\n",
    "    guess = input(\"Guess my name\")\n",
    "    if guess != \"flower\":\n",
    "        print(\"Wrong\")\n",
    "        continue\n",
    "    print(\"Correct\")\n",
    "    break\n"
   ]
  },
  {
   "cell_type": "code",
   "execution_count": 27,
   "metadata": {},
   "outputs": [
    {
     "name": "stdout",
     "output_type": "stream",
     "text": [
      "4\n"
     ]
    }
   ],
   "source": [
    "var1 = int(input('enter a number'))\n",
    "var2 = int(input('enter a second number'))\n",
    "if var1>var2:\n",
    "    print(var1)\n",
    "if var1<var2:\n",
    "    print(var2)\n",
    "\n"
   ]
  },
  {
   "cell_type": "code",
   "execution_count": 28,
   "metadata": {},
   "outputs": [
    {
     "name": "stdout",
     "output_type": "stream",
     "text": [
      "You are too young\n"
     ]
    }
   ],
   "source": [
    "age = int(input(\"enter your age\"))\n",
    "if age>=21:\n",
    "    print(\"Welcome\")\n",
    "else: \n",
    "    print(\"You are too young\")"
   ]
  },
  {
   "cell_type": "code",
   "execution_count": 37,
   "metadata": {},
   "outputs": [
    {
     "name": "stdout",
     "output_type": "stream",
     "text": [
      "You are too young\n"
     ]
    }
   ],
   "source": [
    "age = int(input(\"enter your age\"))\n",
    "if age>=18:\n",
    "    print(\"Welcome to the football team\")\n",
    "elif age>=13:\n",
    "    print(\"Welcome to the youth football team\")\n",
    "else: \n",
    "    print(\"You are too young\")"
   ]
  },
  {
   "cell_type": "code",
   "execution_count": 41,
   "metadata": {},
   "outputs": [
    {
     "name": "stdout",
     "output_type": "stream",
     "text": [
      "You were born on a leap year!\n"
     ]
    }
   ],
   "source": [
    "# leap year predictor\n",
    "year = int(input(\"Enter the year you were born: \"))\n",
    "if year % 4 == 0:\n",
    "    print(\"You were born on a leap year!\")\n",
    "else:\n",
    "    print(\"You were not born on a leap year.\")\n",
    "\n"
   ]
  },
  {
   "cell_type": "code",
   "execution_count": 56,
   "metadata": {},
   "outputs": [
    {
     "name": "stdout",
     "output_type": "stream",
     "text": [
      "x is 1\n",
      "y is something else\n"
     ]
    }
   ],
   "source": [
    "x = 1\n",
    "y =2\n",
    "if x == 1:\n",
    "    if y == 1:\n",
    "        print(\"x is 1\")\n",
    "        print(\"y is 1\")\n",
    "    else:\n",
    "        print(\"x is 1\")\n",
    "        print(\"y is something else\")\n",
    "else:\n",
    "    print(\"x is something else\")"
   ]
  },
  {
   "cell_type": "code",
   "execution_count": 80,
   "metadata": {},
   "outputs": [
    {
     "name": "stdout",
     "output_type": "stream",
     "text": [
      "Welcome to the swimming gym\n",
      "The entry fee will be £2.50\n"
     ]
    }
   ],
   "source": [
    "print(\"Welcome to the swimming gym\")\n",
    "age = int(input(\"Please enter your age\"))\n",
    "if age<20 or age>65:\n",
    "    print (\"Enjoy free swimming!\")\n",
    "else:\n",
    "    card = input(\"Do you have a swim card?\")\n",
    "    if card == 'yes':\n",
    "        print(\"The entry fee will be £2.50\")\n",
    "    else:\n",
    "        print(\"the entry fee will be £5\")\n",
    "\n",
    "    \n"
   ]
  },
  {
   "cell_type": "code",
   "execution_count": 78,
   "metadata": {},
   "outputs": [
    {
     "name": "stdout",
     "output_type": "stream",
     "text": [
      "Both conditions are true\n"
     ]
    }
   ],
   "source": [
    "x = 10\n",
    "y = 15 \n",
    "z = 20\n",
    "if x<y and y<z:\n",
    "    print(\"Both conditions are true\")"
   ]
  },
  {
   "cell_type": "code",
   "execution_count": 74,
   "metadata": {},
   "outputs": [
    {
     "name": "stdout",
     "output_type": "stream",
     "text": [
      "at least one of the conditions are true\n"
     ]
    }
   ],
   "source": [
    "if x<y or y<z:\n",
    "    print(\"at least one of the conditions are true\")"
   ]
  },
  {
   "cell_type": "code",
   "execution_count": 77,
   "metadata": {},
   "outputs": [
    {
     "name": "stdout",
     "output_type": "stream",
     "text": [
      "The condition is false\n"
     ]
    }
   ],
   "source": [
    "if not x<y:\n",
    "    print(\"The condition is false\")"
   ]
  }
 ],
 "metadata": {
  "kernelspec": {
   "display_name": "Python 3",
   "language": "python",
   "name": "python3"
  },
  "language_info": {
   "codemirror_mode": {
    "name": "ipython",
    "version": 3
   },
   "file_extension": ".py",
   "mimetype": "text/x-python",
   "name": "python",
   "nbconvert_exporter": "python",
   "pygments_lexer": "ipython3",
   "version": "3.11.2"
  },
  "orig_nbformat": 4,
  "vscode": {
   "interpreter": {
    "hash": "c2840a402774fc858171e7582a61aee266300c148757521e1baa4be18d248915"
   }
  }
 },
 "nbformat": 4,
 "nbformat_minor": 2
}
