{
 "cells": [
  {
   "cell_type": "code",
   "execution_count": 1,
   "metadata": {},
   "outputs": [
    {
     "name": "stdout",
     "output_type": "stream",
     "text": [
      "Too low. Guess again.\n",
      "Too high. Guess again.\n",
      "Too low. Guess again.\n",
      "Too high. Guess again.\n",
      "Too low. Guess again.\n",
      "Too low. Guess again.\n",
      "Too high. Guess again.\n",
      "Congratulations, you guessed the number!\n"
     ]
    }
   ],
   "source": [
    "import random\n",
    "\n",
    "# generate a random number between 1 and 100\n",
    "number = random.randint(1, 100)\n",
    "\n",
    "while True:\n",
    "    # ask the user to guess the number\n",
    "    guess = input(\"Guess a number between 1 and 100: \")\n",
    "    \n",
    "    # check if the user input is a valid number\n",
    "    if not guess.isdigit():\n",
    "        print(\"Invalid input. Please enter a number.\")\n",
    "        continue\n",
    "    \n",
    "    # convert the user input to an integer\n",
    "    guess = int(guess)\n",
    "    \n",
    "    # check if the guess is correct\n",
    "    if guess == number:\n",
    "        print(\"Congratulations, you guessed the number!\")\n",
    "        break\n",
    "    \n",
    "    # give a hint to the user if the guess is too high or too low\n",
    "    if guess < number:\n",
    "        print(\"Too low. Guess again.\")\n",
    "    else:\n",
    "        print(\"Too high. Guess again.\")\n"
   ]
  }
 ],
 "metadata": {
  "kernelspec": {
   "display_name": "Python 3",
   "language": "python",
   "name": "python3"
  },
  "language_info": {
   "codemirror_mode": {
    "name": "ipython",
    "version": 3
   },
   "file_extension": ".py",
   "mimetype": "text/x-python",
   "name": "python",
   "nbconvert_exporter": "python",
   "pygments_lexer": "ipython3",
   "version": "3.11.2"
  },
  "orig_nbformat": 4
 },
 "nbformat": 4,
 "nbformat_minor": 2
}
